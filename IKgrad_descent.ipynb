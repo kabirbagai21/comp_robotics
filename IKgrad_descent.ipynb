{
 "cells": [
  {
   "cell_type": "code",
   "execution_count": 2,
   "metadata": {},
   "outputs": [],
   "source": [
    "import numpy as np \n",
    "import matplotlib.pyplot as plt \n",
    "from sympy import *\n",
    "import math\n",
    "np.set_printoptions(suppress=True)  \n",
    "\n",
    "t1, t2, t3, t4, t5, t6, t7 = symbols(\"t1 t2 t3 t4 t5 t6 t7\")"
   ]
  },
  {
   "cell_type": "code",
   "execution_count": 3,
   "metadata": {},
   "outputs": [],
   "source": [
    "theta1, theta2, theta3, theta4, theta5, theta6, theta7 = symbols('theta1 theta2 theta3 theta4 theta5 theta6 theta7')"
   ]
  },
  {
   "cell_type": "markdown",
   "metadata": {},
   "source": [
    "**1.**"
   ]
  },
  {
   "cell_type": "code",
   "execution_count": 4,
   "metadata": {},
   "outputs": [
    {
     "data": {
      "image/png": "[encoded data removed]",
      "text/latex": [
       "$\\displaystyle \\left[\\begin{matrix}1 & 0 & 0 & 0\\\\0 & 1 & 0 & 0\\\\0 & 0 & 1 & 0.82\\\\0 & 0 & 0 & 1\\end{matrix}\\right]$"
      ],
      "text/plain": [
       "⎡1  0  0   0  ⎤\n",
       "⎢             ⎥\n",
       "⎢0  1  0   0  ⎥\n",
       "⎢             ⎥\n",
       "⎢0  0  1  0.82⎥\n",
       "⎢             ⎥\n",
       "⎣0  0  0   1  ⎦"
      ]
     },
     "execution_count": 4,
     "metadata": {},
     "output_type": "execute_result"
    }
   ],
   "source": [
    "\n",
    "init_printing() \n",
    "\n",
    "def transform_matrix_x(alpha):\n",
    "     transformation = Matrix([[1, 0, 0, 0],\n",
    "                              [0, cos(alpha), -sin(alpha), 0],\n",
    "                              [0, sin(alpha), cos(alpha), 0],\n",
    "                              [0, 0, 0, 1]])\n",
    "     return transformation\n",
    "\n",
    "def transform_matrix_z(theta, transform=0): \n",
    "     transformation = Matrix([[cos(theta), -sin(theta), 0, 0],\n",
    "                              [sin(theta), cos(theta), 0, 0],\n",
    "                              [0, 0, 1, transform],\n",
    "                              [0, 0, 0, 1]])\n",
    "     return transformation\n",
    "\n",
    "ninety_deg = pi/2\n",
    "t1 = eye(4) * transform_matrix_z(theta1, 0) \n",
    "t2 = transform_matrix_x(ninety_deg) * transform_matrix_z(theta2, 0) \n",
    "t3 = transform_matrix_x(-ninety_deg) * transform_matrix_z(theta3, 0.42) \n",
    "t4 = transform_matrix_x(-ninety_deg) * transform_matrix_z(theta4, 0)\n",
    "t5 = transform_matrix_x(ninety_deg) * transform_matrix_z(theta5, 0.4) \n",
    "t6 = transform_matrix_x(ninety_deg) * transform_matrix_z(theta6, 0) \n",
    "t7 = transform_matrix_x(-ninety_deg) * transform_matrix_z(theta7, 0) \n",
    "\n",
    "T_map = t1*t2*t3*t4*t5*t6*t7\n",
    "zero_angles = {theta1: 0, theta2: 0, theta3: 0, theta4: 0, theta5: 0, theta6: 0, theta7: 0}\n",
    "ninety_angles = {theta1: ninety_deg, theta2: ninety_deg, theta3: ninety_deg, theta4: ninety_deg, theta5: ninety_deg, theta6: ninety_deg, theta7: ninety_deg}\n",
    "\n",
    "T_map_zero = T_map.subs(zero_angles)\n",
    "T_map_zero\n"
   ]
  },
  {
   "cell_type": "code",
   "execution_count": 5,
   "metadata": {},
   "outputs": [
    {
     "data": {
      "image/png": "[encoded data removed]",
      "text/latex": [
       "$\\displaystyle \\left[\\begin{matrix}0 & 1 & 0 & -0.4\\\\-1 & 0 & 0 & -0.42\\\\0 & 0 & 1 & 0\\\\0 & 0 & 0 & 1\\end{matrix}\\right]$"
      ],
      "text/plain": [
       "⎡0   1  0  -0.4 ⎤\n",
       "⎢               ⎥\n",
       "⎢-1  0  0  -0.42⎥\n",
       "⎢               ⎥\n",
       "⎢0   0  1    0  ⎥\n",
       "⎢               ⎥\n",
       "⎣0   0  0    1  ⎦"
      ]
     },
     "execution_count": 5,
     "metadata": {},
     "output_type": "execute_result"
    }
   ],
   "source": [
    "T_map_ninety = T_map.subs(ninety_angles)\n",
    "T_map_ninety"
   ]
  },
  {
   "cell_type": "markdown",
   "metadata": {},
   "source": [
    "**2.**"
   ]
  },
  {
   "cell_type": "code",
   "execution_count": 6,
   "metadata": {},
   "outputs": [
    {
     "name": "stdout",
     "output_type": "stream",
     "text": [
      "(3, 7)\n"
     ]
    }
   ],
   "source": [
    "Y = Matrix([theta1, theta2, theta3, theta4, theta5, theta6, theta7])\n",
    "end_effector_pos = T_map[:3, 3]\n",
    "jacobian_matrix = end_effector_pos.jacobian(Y)\n",
    "print(jacobian_matrix.shape)"
   ]
  },
  {
   "cell_type": "code",
   "execution_count": 7,
   "metadata": {},
   "outputs": [
    {
     "name": "stdout",
     "output_type": "stream",
     "text": [
      "Rank of J(0): 1\n"
     ]
    },
    {
     "data": {
      "image/png": "[encoded data removed]",
      "text/latex": [
       "$\\displaystyle \\left[\\begin{matrix}0 & -0.82 & 0 & 0.4 & 0 & 0 & 0\\\\0 & 0 & 0 & 0 & 0 & 0 & 0\\\\0 & 0 & 0 & 0 & 0 & 0 & 0\\end{matrix}\\right]$"
      ],
      "text/plain": [
       "⎡0  -0.82  0  0.4  0  0  0⎤\n",
       "⎢                         ⎥\n",
       "⎢0    0    0   0   0  0  0⎥\n",
       "⎢                         ⎥\n",
       "⎣0    0    0   0   0  0  0⎦"
      ]
     },
     "execution_count": 7,
     "metadata": {},
     "output_type": "execute_result"
    }
   ],
   "source": [
    "jacobian_zero = jacobian_matrix.subs(zero_angles)\n",
    "rank_at_zero = jacobian_zero.rank()\n",
    "print(\"Rank of J(0):\", rank_at_zero)\n",
    "jacobian_zero"
   ]
  },
  {
   "cell_type": "markdown",
   "metadata": {},
   "source": [
    "There is 1 possible direction of instantaneous motion of the end effector"
   ]
  },
  {
   "cell_type": "code",
   "execution_count": 54,
   "metadata": {},
   "outputs": [
    {
     "data": {
      "image/png": "[encoded data removed]",
      "text/latex": [
       "$\\displaystyle \\left[ \\left[\\begin{matrix}1\\\\0\\\\0\\\\0\\\\0\\\\0\\\\0\\end{matrix}\\right], \\  \\left[\\begin{matrix}0\\\\0\\\\1\\\\0\\\\0\\\\0\\\\0\\end{matrix}\\right], \\  \\left[\\begin{matrix}0\\\\0.48780487804878\\\\0\\\\1\\\\0\\\\0\\\\0\\end{matrix}\\right], \\  \\left[\\begin{matrix}0\\\\0\\\\0\\\\0\\\\1\\\\0\\\\0\\end{matrix}\\right], \\  \\left[\\begin{matrix}0\\\\0\\\\0\\\\0\\\\0\\\\1\\\\0\\end{matrix}\\right], \\  \\left[\\begin{matrix}0\\\\0\\\\0\\\\0\\\\0\\\\0\\\\1\\end{matrix}\\right]\\right]$"
      ],
      "text/plain": [
       "⎡⎡1⎤  ⎡0⎤  ⎡       0        ⎤  ⎡0⎤  ⎡0⎤  ⎡0⎤⎤\n",
       "⎢⎢ ⎥  ⎢ ⎥  ⎢                ⎥  ⎢ ⎥  ⎢ ⎥  ⎢ ⎥⎥\n",
       "⎢⎢0⎥  ⎢0⎥  ⎢0.48780487804878⎥  ⎢0⎥  ⎢0⎥  ⎢0⎥⎥\n",
       "⎢⎢ ⎥  ⎢ ⎥  ⎢                ⎥  ⎢ ⎥  ⎢ ⎥  ⎢ ⎥⎥\n",
       "⎢⎢0⎥  ⎢1⎥  ⎢       0        ⎥  ⎢0⎥  ⎢0⎥  ⎢0⎥⎥\n",
       "⎢⎢ ⎥  ⎢ ⎥  ⎢                ⎥  ⎢ ⎥  ⎢ ⎥  ⎢ ⎥⎥\n",
       "⎢⎢0⎥, ⎢0⎥, ⎢       1        ⎥, ⎢0⎥, ⎢0⎥, ⎢0⎥⎥\n",
       "⎢⎢ ⎥  ⎢ ⎥  ⎢                ⎥  ⎢ ⎥  ⎢ ⎥  ⎢ ⎥⎥\n",
       "⎢⎢0⎥  ⎢0⎥  ⎢       0        ⎥  ⎢1⎥  ⎢0⎥  ⎢0⎥⎥\n",
       "⎢⎢ ⎥  ⎢ ⎥  ⎢                ⎥  ⎢ ⎥  ⎢ ⎥  ⎢ ⎥⎥\n",
       "⎢⎢0⎥  ⎢0⎥  ⎢       0        ⎥  ⎢0⎥  ⎢1⎥  ⎢0⎥⎥\n",
       "⎢⎢ ⎥  ⎢ ⎥  ⎢                ⎥  ⎢ ⎥  ⎢ ⎥  ⎢ ⎥⎥\n",
       "⎣⎣0⎦  ⎣0⎦  ⎣       0        ⎦  ⎣0⎦  ⎣0⎦  ⎣1⎦⎦"
      ]
     },
     "execution_count": 54,
     "metadata": {},
     "output_type": "execute_result"
    }
   ],
   "source": [
    "nullspace = jacobian_zero.nullspace()\n",
    "nullspace"
   ]
  },
  {
   "cell_type": "markdown",
   "metadata": {},
   "source": [
    "Given $\\theta_{0}...\\theta_{7} = 0, (\\dot{\\theta_{0}}...\\dot{\\theta_{7}}) = \\alpha(1, 0.4878, 1, 1, 1, 1, 1)$, the end effector velocity will be 0. "
   ]
  },
  {
   "cell_type": "markdown",
   "metadata": {},
   "source": [
    "**3**"
   ]
  },
  {
   "cell_type": "code",
   "execution_count": 58,
   "metadata": {},
   "outputs": [
    {
     "name": "stdout",
     "output_type": "stream",
     "text": [
      "Joint Angles at Convergence:\n",
      "{theta1: 0.5478074248744764, theta2: -0.42267998569285603, theta3: 0.3758702186861629, theta4: 1.1324604543876053, theta5: 1.0, theta6: 1.0, theta7: 1.0}\n"
     ]
    },
    {
     "data": {
      "image/png": "[encoded data removed]",
      "text/plain": [
       "<Figure size 640x480 with 1 Axes>"
      ]
     },
     "metadata": {},
     "output_type": "display_data"
    }
   ],
   "source": [
    "current_angles = {theta1: 1, theta2: 1, theta3: 1, theta4: 1, theta5: 1, theta6: 1, theta7: 1}\n",
    "alpha = 0.5\n",
    "errors = []\n",
    "iterations = []\n",
    "desired_position = np.array([[0.4], [0.4], [0.4]])\n",
    "num_iters = 250\n",
    "for i in range(num_iters):\n",
    "    current_pos = np.array(T_map[:3, 3].subs(current_angles)).astype(np.float64)\n",
    "    error = desired_position - current_pos\n",
    "    current_gradient = np.array(jacobian_matrix.subs(current_angles)).astype(np.float64).T.dot(error)\n",
    "    current_angles = {theta: theta_value + (alpha * current_gradient[j][0]) for j, (theta, theta_value) in enumerate(current_angles.items())}\n",
    "    errors.append(np.linalg.norm(error))\n",
    "    iterations.append(len(errors))\n",
    "\n",
    "\n",
    "print(\"Joint Angles at Convergence:\")\n",
    "print(current_angles)\n",
    "\n",
    "plt.plot(iterations, errors, linestyle='-')\n",
    "plt.xlabel('Iteration')\n",
    "plt.ylabel('Error')\n",
    "plt.title('Error during Optimization')\n",
    "plt.grid(True)\n",
    "plt.show()"
   ]
  }
 ],
 "metadata": {
  "kernelspec": {
   "display_name": "Python 3 (ipykernel)",
   "language": "python",
   "name": "python3"
  },
  "language_info": {
   "codemirror_mode": {
    "name": "ipython",
    "version": 3
   },
   "file_extension": ".py",
   "mimetype": "text/x-python",
   "name": "python",
   "nbconvert_exporter": "python",
   "pygments_lexer": "ipython3",
   "version": "3.9.13"
  }
 },
 "nbformat": 4,
 "nbformat_minor": 2
}
